{
 "cells": [
  {
   "cell_type": "code",
   "id": "initial_id",
   "metadata": {
    "collapsed": true,
    "ExecuteTime": {
     "end_time": "2024-12-01T07:09:20.752923Z",
     "start_time": "2024-12-01T07:09:20.747073Z"
    }
   },
   "source": [
    "left = []\n",
    "right = []\n",
    "num = 0\n",
    "with open(\"input.txt\", \"r\") as f:\n",
    "    for lines in f.read().split(\"\\n\"):\n",
    "        if lines == \"\":\n",
    "            continue\n",
    "        [l, r] = list(map(int, lines.split()))\n",
    "        left.append(l)\n",
    "        right.append(r)\n",
    "        num += 1\n",
    "left.sort()\n",
    "right.sort()"
   ],
   "outputs": [],
   "execution_count": 2
  },
  {
   "metadata": {
    "ExecuteTime": {
     "end_time": "2024-12-01T07:09:21.797359Z",
     "start_time": "2024-12-01T07:09:21.793229Z"
    }
   },
   "cell_type": "code",
   "source": [
    "dist = 0\n",
    "for i in range(num):\n",
    "    dist += abs(right[i] - left[i])\n",
    "print(dist)"
   ],
   "id": "4a0040e924378cba",
   "outputs": [
    {
     "name": "stdout",
     "output_type": "stream",
     "text": [
      "1938424\n"
     ]
    }
   ],
   "execution_count": 3
  },
  {
   "metadata": {
    "ExecuteTime": {
     "end_time": "2024-12-01T07:10:32.810686Z",
     "start_time": "2024-12-01T07:10:32.789896Z"
    }
   },
   "cell_type": "code",
   "source": [
    "similarity = 0\n",
    "for i in left:\n",
    "    similarity += i * right.count(i)\n",
    "print(similarity)"
   ],
   "id": "bf321fbda67d97bf",
   "outputs": [
    {
     "name": "stdout",
     "output_type": "stream",
     "text": [
      "22014209\n"
     ]
    }
   ],
   "execution_count": 5
  }
 ],
 "metadata": {
  "kernelspec": {
   "display_name": "Python 3",
   "language": "python",
   "name": "python3"
  },
  "language_info": {
   "codemirror_mode": {
    "name": "ipython",
    "version": 2
   },
   "file_extension": ".py",
   "mimetype": "text/x-python",
   "name": "python",
   "nbconvert_exporter": "python",
   "pygments_lexer": "ipython2",
   "version": "2.7.6"
  }
 },
 "nbformat": 4,
 "nbformat_minor": 5
}
